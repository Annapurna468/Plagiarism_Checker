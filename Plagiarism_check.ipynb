{
 "cells": [
  {
   "cell_type": "code",
   "execution_count": 1,
   "id": "8b5260f8",
   "metadata": {},
   "outputs": [
    {
     "ename": "SyntaxError",
     "evalue": "invalid syntax (4011356172.py, line 1)",
     "output_type": "error",
     "traceback": [
      "\u001b[1;36m  Cell \u001b[1;32mIn[1], line 1\u001b[1;36m\u001b[0m\n\u001b[1;33m    pip install notebook\u001b[0m\n\u001b[1;37m        ^\u001b[0m\n\u001b[1;31mSyntaxError\u001b[0m\u001b[1;31m:\u001b[0m invalid syntax\n"
     ]
    }
   ],
   "source": [
    "pip install notebook\n",
    "\n"
   ]
  },
  {
   "cell_type": "code",
   "execution_count": 2,
   "id": "135ee9dd",
   "metadata": {},
   "outputs": [],
   "source": [
    "from tkinter import filedialog\n",
    "\n"
   ]
  },
  {
   "cell_type": "code",
   "execution_count": 4,
   "id": "15b03b0c",
   "metadata": {},
   "outputs": [],
   "source": [
    "from tkinter import *\n",
    "from tkinter import filedialog, messagebox\n",
    "\n",
    "def select_file1():\n",
    "    global file1_path\n",
    "    file1_path = filedialog.askopenfilename(title=\"Select File 1\", filetypes=[(\"Text files\", \"*.txt\")])\n",
    "    if file1_path:\n",
    "        file1_label.config(text=f\"File 1: {file1_path}\")\n",
    "    else:\n",
    "        file1_label.config(text=\"No file selected\")\n",
    "\n",
    "def select_file2():\n",
    "    global file2_path\n",
    "    file2_path = filedialog.askopenfilename(title=\"Select File 2\", filetypes=[(\"Text files\", \"*.txt\")])\n",
    "    if file2_path:\n",
    "        file2_label.config(text=f\"File 2: {file2_path}\")\n",
    "    else:\n",
    "        file2_label.config(text=\"No file selected\")\n",
    "\n",
    "def compare_files():\n",
    "    try:\n",
    "        with open(file1_path, encoding='utf-8') as f1, open(file2_path, encoding='utf-8') as f2:\n",
    "            l1 = [word for word in f1.read().lower().split() if word.isalnum()]\n",
    "            l2 = [word for word in f2.read().lower().split() if word.isalnum()]\n",
    "        \n",
    "        # Calculate plagiarism percent\n",
    "        plag_words = len(set(l1).intersection(set(l2)))\n",
    "        total_words = len(l1) + len(l2)\n",
    "        plag_percent = 100 - round((total_words - plag_words * 2) / total_words * 100)\n",
    "\n",
    "        result = f\"The Plagiarized Content Percent among two files is {plag_percent}%\"\n",
    "\n",
    "        # Show result in different color based on percent\n",
    "        if plag_percent > 30 and plag_percent <= 60:\n",
    "            result_canvas.config(bg=\"yellow\")\n",
    "        else:\n",
    "            result_canvas.config(bg=\"red\")\n",
    "        \n",
    "        # Update canvas text\n",
    "        result_canvas.delete(\"all\")\n",
    "        result_canvas.create_text(350, 60, text=result, fill=\"black\", font=('Helvetica', 15, 'bold'))\n",
    "\n",
    "    except Exception as e:\n",
    "        messagebox.showerror(\"Error\", f\"Could not compare files.\\n{e}\")\n",
    "\n",
    "# GUI setup\n",
    "root = Tk()\n",
    "root.title(\"Plagiarism Checker\")\n",
    "root.geometry(\"800x300\")\n",
    "root.config(bg=\"#708090\")\n",
    "\n",
    "title_label = Label(root, text=\"Plagiarism Checker\", font=(\"Helvetica\", 18, 'bold'), bg=\"#708090\", fg=\"white\")\n",
    "title_label.pack(pady=10)\n",
    "\n",
    "btn_frame = Frame(root, bg=\"#708090\")\n",
    "btn_frame.pack()\n",
    "\n",
    "btn1 = Button(btn_frame, text=\"Select File 1\", command=select_file1, font=(\"Helvetica\", 12))\n",
    "btn1.grid(row=0, column=0, padx=10)\n",
    "\n",
    "btn2 = Button(btn_frame, text=\"Select File 2\", command=select_file2, font=(\"Helvetica\", 12))\n",
    "btn2.grid(row=0, column=1, padx=10)\n",
    "\n",
    "file1_label = Label(root, text=\"No file selected\", font=(\"Helvetica\", 10), bg=\"#708090\", fg=\"white\")\n",
    "file1_label.pack()\n",
    "\n",
    "file2_label = Label(root, text=\"No file selected\", font=(\"Helvetica\", 10), bg=\"#708090\", fg=\"white\")\n",
    "file2_label.pack()\n",
    "\n",
    "compare_btn = Button(root, text=\"Compare Files\", command=compare_files, font=(\"Helvetica\", 12))\n",
    "compare_btn.pack(pady=10)\n",
    "\n",
    "# Canvas to display result\n",
    "result_canvas = Canvas(root, width=700, height=120, bg=\"lightgray\")\n",
    "result_canvas.pack(pady=10)\n",
    "\n",
    "root.mainloop()\n"
   ]
  },
  {
   "cell_type": "code",
   "execution_count": null,
   "id": "f918b4ba",
   "metadata": {},
   "outputs": [],
   "source": []
  }
 ],
 "metadata": {
  "kernelspec": {
   "display_name": "Python 3 (ipykernel)",
   "language": "python",
   "name": "python3"
  },
  "language_info": {
   "codemirror_mode": {
    "name": "ipython",
    "version": 3
   },
   "file_extension": ".py",
   "mimetype": "text/x-python",
   "name": "python",
   "nbconvert_exporter": "python",
   "pygments_lexer": "ipython3",
   "version": "3.11.5"
  }
 },
 "nbformat": 4,
 "nbformat_minor": 5
}
